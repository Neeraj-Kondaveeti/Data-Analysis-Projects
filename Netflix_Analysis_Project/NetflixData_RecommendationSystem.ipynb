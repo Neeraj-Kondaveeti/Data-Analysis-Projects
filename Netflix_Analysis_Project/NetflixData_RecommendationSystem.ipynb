{
  "cells": [
    {
      "cell_type": "code",
      "execution_count": 1,
      "metadata": {
        "colab": {
          "base_uri": "https://localhost:8080/"
        },
        "id": "063AawhM9qSK",
        "outputId": "d4ce617b-bb6d-4e93-fd56-0872bf9d4430"
      },
      "outputs": [
        {
          "output_type": "stream",
          "name": "stdout",
          "text": [
            "\n",
            "Usage:   \n",
            "  pip3 install [options] <requirement specifier> [package-index-options] ...\n",
            "  pip3 install [options] -r <requirements file> [package-index-options] ...\n",
            "  pip3 install [options] [-e] <vcs project url> ...\n",
            "  pip3 install [options] [-e] <local project path> ...\n",
            "  pip3 install [options] <archive url/path> ...\n",
            "\n",
            "no such option: --quite\n"
          ]
        }
      ],
      "source": [
        "pip install dash --quite"
      ]
    },
    {
      "cell_type": "code",
      "execution_count": 2,
      "metadata": {
        "colab": {
          "base_uri": "https://localhost:8080/"
        },
        "id": "HgI5wNwY-Qrm",
        "outputId": "fab11593-c481-4fec-e4b1-56edd4bbf316"
      },
      "outputs": [
        {
          "output_type": "stream",
          "name": "stdout",
          "text": [
            "\n",
            "Usage:   \n",
            "  pip3 install [options] <requirement specifier> [package-index-options] ...\n",
            "  pip3 install [options] -r <requirements file> [package-index-options] ...\n",
            "  pip3 install [options] [-e] <vcs project url> ...\n",
            "  pip3 install [options] [-e] <local project path> ...\n",
            "  pip3 install [options] <archive url/path> ...\n",
            "\n",
            "no such option: --quite\n"
          ]
        }
      ],
      "source": [
        "pip install fuzzywuzzy --quite"
      ]
    },
    {
      "cell_type": "code",
      "execution_count": 3,
      "metadata": {
        "colab": {
          "base_uri": "https://localhost:8080/",
          "height": 71
        },
        "id": "SCg6EhSy8NBz",
        "outputId": "0154fe96-e479-48a3-c3bd-baac60082239"
      },
      "outputs": [
        {
          "output_type": "stream",
          "name": "stderr",
          "text": [
            "/usr/local/lib/python3.10/dist-packages/fuzzywuzzy/fuzz.py:11: UserWarning: Using slow pure-python SequenceMatcher. Install python-Levenshtein to remove this warning\n",
            "  warnings.warn('Using slow pure-python SequenceMatcher. Install python-Levenshtein to remove this warning')\n"
          ]
        }
      ],
      "source": [
        "#importing required packages\n",
        "import pandas as pd\n",
        "from sklearn.feature_extraction.text import CountVectorizer\n",
        "from sklearn.metrics.pairwise import cosine_similarity\n",
        "from dash import Dash, dcc, html, Input, Output\n",
        "from fuzzywuzzy import process"
      ]
    },
    {
      "cell_type": "code",
      "execution_count": 4,
      "metadata": {
        "id": "i1gLNgOt8p6c"
      },
      "outputs": [],
      "source": [
        "# Loading the dataset\n",
        "df = pd.read_csv('netflix_titles.csv')"
      ]
    },
    {
      "cell_type": "code",
      "execution_count": 5,
      "metadata": {
        "colab": {
          "base_uri": "https://localhost:8080/"
        },
        "id": "Xns_-Lwr8qKL",
        "outputId": "449206db-9a99-47d6-a107-8dfda5131600"
      },
      "outputs": [
        {
          "output_type": "stream",
          "name": "stdout",
          "text": [
            "Missing Values in 'listed_in': 0\n",
            "Missing Values in 'title': 0\n"
          ]
        }
      ],
      "source": [
        "# Checking for missing values in the 'listed_in' and 'title' columns\n",
        "print(\"Missing Values in 'listed_in':\", df['listed_in'].isnull().sum())\n",
        "print(\"Missing Values in 'title':\", df['title'].isnull().sum())"
      ]
    },
    {
      "cell_type": "code",
      "execution_count": 6,
      "metadata": {
        "id": "z3z45MnO8qMH"
      },
      "outputs": [],
      "source": [
        "# Dropping rows with missing values in 'listed_in' or 'title'\n",
        "df = df.dropna(subset=['listed_in', 'title'])\n"
      ]
    },
    {
      "cell_type": "code",
      "execution_count": 7,
      "metadata": {
        "id": "GKGUD38d8qOb"
      },
      "outputs": [],
      "source": [
        "# Combining genres into a single string for each title\n",
        "df['genres_cleaned'] = df['listed_in'].apply(lambda x: x.lower().replace(' ', '').replace(',', ' '))"
      ]
    },
    {
      "cell_type": "code",
      "execution_count": 8,
      "metadata": {
        "id": "dAf4tK4M8qQs"
      },
      "outputs": [],
      "source": [
        "#Creating a Count Vectorizer to transform genres into feature vectors\n",
        "vectorizer = CountVectorizer()\n",
        "genre_vectors = vectorizer.fit_transform(df['genres_cleaned'])"
      ]
    },
    {
      "cell_type": "code",
      "execution_count": 9,
      "metadata": {
        "id": "GlGd_8NN8qSm"
      },
      "outputs": [],
      "source": [
        "# Computing cosine similarity\n",
        "cosine_sim = cosine_similarity(genre_vectors, genre_vectors)\n",
        "\n",
        "# List of unique genres\n",
        "unique_genres = sorted(set([genre.strip() for sublist in df['listed_in'].str.split(',') for genre in sublist]))"
      ]
    },
    {
      "cell_type": "code",
      "execution_count": 10,
      "metadata": {
        "id": "zUvYoxLa8qwS"
      },
      "outputs": [],
      "source": [
        "# Function to recommend titles based on a given title\n",
        "def recommend(title, cosine_sim=cosine_sim, df=df, top_n=5):\n",
        "    # Getting the index of the given title\n",
        "    try:\n",
        "        idx = df[df['title'].str.contains(title, case=False, na=False)].index[0]\n",
        "    except IndexError:\n",
        "        return f\"Title '{title}' not found in the dataset. Please check the spelling or try another title.\"\n",
        "\n",
        "    # Getting similarity scores for all titles with the given title\n",
        "    sim_scores = list(enumerate(cosine_sim[idx]))\n",
        "\n",
        "    # Sorting titles based on similarity scores\n",
        "    sim_scores = sorted(sim_scores, key=lambda x: x[1], reverse=True)\n",
        "\n",
        "    # Getting the indices of the top_n most similar titles\n",
        "    top_indices = [i[0] for i in sim_scores[1:top_n+1]]\n",
        "\n",
        "    # Returning the recommended titles\n",
        "    return df.iloc[top_indices][['title', 'listed_in']]\n"
      ]
    },
    {
      "cell_type": "code",
      "execution_count": 11,
      "metadata": {
        "id": "E2g0-x-9-uz0"
      },
      "outputs": [],
      "source": [
        "# Recommendation function with fuzzy matching\n",
        "def recommend(title, genre_filter=None, release_year=None, content_type=None, top_n=5):\n",
        "    # Fuzzy match the title\n",
        "    matched_title = process.extractOne(title, df['title'])[0] if title else None\n",
        "    idx = df[df['title'] == matched_title].index[0]\n",
        "\n",
        "    # Calculate similarity scores\n",
        "    sim_scores = list(enumerate(cosine_sim[idx]))\n",
        "    sim_scores = sorted(sim_scores, key=lambda x: x[1], reverse=True)\n",
        "    top_indices = [i[0] for i in sim_scores[1:top_n+1]]\n",
        "\n",
        "    # Filter recommendations\n",
        "    recommendations = df.iloc[top_indices]\n",
        "    if genre_filter:\n",
        "        recommendations = recommendations[recommendations['listed_in'].str.contains(genre_filter, case=False, na=False)]\n",
        "    if release_year:\n",
        "        recommendations = recommendations[recommendations['release_year'] == int(release_year)]\n",
        "    if content_type:\n",
        "        recommendations = recommendations[recommendations['type'] == content_type]\n",
        "\n",
        "    return recommendations[['title', 'listed_in', 'release_year', 'type']].head(top_n)\n"
      ]
    },
    {
      "cell_type": "code",
      "execution_count": 12,
      "metadata": {
        "id": "EAerSKB284Op"
      },
      "outputs": [],
      "source": [
        "app = Dash(__name__)\n",
        "\n",
        "# App layout\n",
        "app.layout = html.Div([\n",
        "    html.Div([\n",
        "        html.H1(\"Netflix Recommendation Dashboard\", style={'textAlign': 'center', 'color': '#ffffff', 'backgroundColor': '#333333', 'padding': '10px'}),\n",
        "    ]),\n",
        "\n",
        "    html.Div([\n",
        "        html.Label(\"Enter a Movie or TV Show Title:\", style={'fontWeight': 'bold'}),\n",
        "        dcc.Input(id=\"input-title\", type=\"text\", placeholder=\"Enter a title\", style={'width': '60%', 'padding': '10px'}),\n",
        "        html.Br(),\n",
        "\n",
        "        html.Label(\"Filter by Genre:\", style={'fontWeight': 'bold'}),\n",
        "        dcc.Dropdown(\n",
        "            id=\"genre-filter\",\n",
        "            options=[{'label': genre, 'value': genre} for genre in unique_genres],\n",
        "            placeholder=\"Select a genre\",\n",
        "            style={'width': '60%'}\n",
        "        ),\n",
        "        html.Br(),\n",
        "\n",
        "        html.Label(\"Filter by Release Year:\", style={'fontWeight': 'bold'}),\n",
        "        dcc.Input(id=\"release-year\", type=\"number\", placeholder=\"Enter release year\", style={'width': '60%', 'padding': '10px'}),\n",
        "        html.Br(),\n",
        "\n",
        "        html.Label(\"Filter by Content Type:\", style={'fontWeight': 'bold'}),\n",
        "        dcc.Dropdown(\n",
        "            id=\"content-type\",\n",
        "            options=[\n",
        "                {'label': 'Movie', 'value': 'Movie'},\n",
        "                {'label': 'TV Show', 'value': 'TV Show'}\n",
        "            ],\n",
        "            placeholder=\"Select content type\",\n",
        "            style={'width': '60%'}\n",
        "        ),\n",
        "        html.Br(),\n",
        "\n",
        "        html.Button(\"Get Recommendations\", id=\"recommend-button\", n_clicks=0, style={'backgroundColor': '#007BFF', 'color': '#ffffff', 'padding': '10px 20px', 'border': 'none', 'borderRadius': '5px'}),\n",
        "    ], style={'textAlign': 'center', 'padding': '20px'}),\n",
        "\n",
        "    html.Div(id=\"output-recommendations\", style={'marginTop': '20px', 'textAlign': 'center', 'padding': '20px'}),\n",
        "\n",
        "    html.Div(id=\"genre-visualization\", style={'marginTop': '20px', 'textAlign': 'center', 'padding': '20px'}),\n",
        "], style={'fontFamily': 'Arial, sans-serif', 'backgroundColor': '#F4F4F4', 'padding': '20px'})\n"
      ]
    },
    {
      "cell_type": "code",
      "execution_count": 13,
      "metadata": {
        "colab": {
          "base_uri": "https://localhost:8080/",
          "height": 671
        },
        "id": "BlnDEZOg86AV",
        "outputId": "1d64a70d-1a0b-48f5-dcf4-351393a6251b"
      },
      "outputs": [
        {
          "output_type": "display_data",
          "data": {
            "text/plain": [
              "<IPython.core.display.Javascript object>"
            ],
            "application/javascript": [
              "(async (port, path, width, height, cache, element) => {\n",
              "    if (!google.colab.kernel.accessAllowed && !cache) {\n",
              "      return;\n",
              "    }\n",
              "    element.appendChild(document.createTextNode(''));\n",
              "    const url = await google.colab.kernel.proxyPort(port, {cache});\n",
              "    const iframe = document.createElement('iframe');\n",
              "    iframe.src = new URL(path, url).toString();\n",
              "    iframe.height = height;\n",
              "    iframe.width = width;\n",
              "    iframe.style.border = 0;\n",
              "    iframe.allow = [\n",
              "        'accelerometer',\n",
              "        'autoplay',\n",
              "        'camera',\n",
              "        'clipboard-read',\n",
              "        'clipboard-write',\n",
              "        'gyroscope',\n",
              "        'magnetometer',\n",
              "        'microphone',\n",
              "        'serial',\n",
              "        'usb',\n",
              "        'xr-spatial-tracking',\n",
              "    ].join('; ');\n",
              "    element.appendChild(iframe);\n",
              "  })(8050, \"/\", \"100%\", 650, false, window.element)"
            ]
          },
          "metadata": {}
        }
      ],
      "source": [
        "# Callback for recommendations\n",
        "@app.callback(\n",
        "    [Output(\"output-recommendations\", \"children\"),\n",
        "     Output(\"genre-visualization\", \"children\")],\n",
        "    [Input(\"recommend-button\", \"n_clicks\")],\n",
        "    [Input(\"input-title\", \"value\"),\n",
        "     Input(\"genre-filter\", \"value\"),\n",
        "     Input(\"release-year\", \"value\"),\n",
        "     Input(\"content-type\", \"value\")]\n",
        ")\n",
        "def update_recommendations(n_clicks, title, genre_filter, release_year, content_type):\n",
        "    if not title:\n",
        "        return html.Div(\"Please enter a title to get recommendations.\", style={'color': 'red'}), None\n",
        "\n",
        "    recommendations = recommend(title, genre_filter, release_year, content_type)\n",
        "\n",
        "    if recommendations.empty:\n",
        "        return html.Div(f\"No recommendations found for '{title}'. Please try another title.\", style={'color': 'red'}), None\n",
        "\n",
        "    # Recommendations Table\n",
        "    recommendation_table = html.Table([\n",
        "        html.Tr([html.Th(\"Title\"), html.Th(\"Genres\"), html.Th(\"Release Year\"), html.Th(\"Type\")])] +\n",
        "        [html.Tr([html.Td(row['title']), html.Td(row['listed_in']), html.Td(row['release_year']), html.Td(row['type'])])\n",
        "         for _, row in recommendations.iterrows()]\n",
        "    , style={'margin': 'auto', 'border': '1px solid black', 'borderCollapse': 'collapse', 'width': '80%'})\n",
        "\n",
        "    # Visualization of genres\n",
        "    genre_counts = recommendations['listed_in'].str.split(',').explode().value_counts().head(5)\n",
        "    genre_bar = dcc.Graph(\n",
        "        figure={\n",
        "            'data': [{'x': genre_counts.index, 'y': genre_counts.values, 'type': 'bar', 'name': 'Genres'}],\n",
        "            'layout': {'title': 'Top Genres in Recommendations'}\n",
        "        }\n",
        "    )\n",
        "\n",
        "    return recommendation_table, genre_bar\n",
        "\n",
        "# Running the app\n",
        "if __name__ == \"__main__\":\n",
        "    app.run_server(debug=True)"
      ]
    },
    {
      "cell_type": "markdown",
      "metadata": {
        "id": "LHUHrSyAAYQC"
      },
      "source": [
        "Explanation:\n",
        "This Netflix Recommendation System uses content-based filtering to suggest similar titles based on genres. Here's how it works:\n",
        "\n",
        "Preprocessing:\n",
        "The listed_in column (genres) is cleaned and transformed into numerical feature vectors using the CountVectorizer.\n",
        "\n",
        "Cosine Similarity:\n",
        "A similarity matrix is calculated to compare how similar the genres of any two titles are.\n",
        "\n",
        "Fuzzy Matching:\n",
        "Ensures robust title matching by allowing partial or approximate matches for user input.\n",
        "\n",
        "Filtering:\n",
        "Users can filter recommendations by genre, release year, and content type (Movie/TV Show).\n",
        "\n",
        "Interactive Dashboard:\n",
        "Built with Dash, the dashboard allows users to enter a title and customize filters, then view recommendations in a neatly formatted table.\n",
        "\n",
        "This approach provides a flexible and interactive way to explore Netflix-like recommendations based on content similarity."
      ]
    },
    {
      "cell_type": "code",
      "execution_count": 13,
      "metadata": {
        "id": "lxKbhDmfAaMm"
      },
      "outputs": [],
      "source": []
    }
  ],
  "metadata": {
    "colab": {
      "provenance": []
    },
    "kernelspec": {
      "display_name": "Python 3",
      "name": "python3"
    },
    "language_info": {
      "name": "python"
    }
  },
  "nbformat": 4,
  "nbformat_minor": 0
}